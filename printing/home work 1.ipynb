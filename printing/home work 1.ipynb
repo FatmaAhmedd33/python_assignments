{
 "cells": [
  {
   "cell_type": "code",
   "execution_count": 4,
   "id": "8deb5000",
   "metadata": {},
   "outputs": [
    {
     "name": "stdout",
     "output_type": "stream",
     "text": [
      "practice makes perfect .\n",
      "childern must be taught \n",
      " how to think \n",
      " not \n",
      " what to think\n",
      "\"\"\n",
      "2*3*4*5/10=\n",
      "12.0\n"
     ]
    }
   ],
   "source": [
    "print('practice',\"makes perfect .\")# practice  makes perfect .\n",
    "print(\"childern must be taught \\n how to think \\n not \\n what to think\")\n",
    "#childern must be taught \n",
    "#how to think \n",
    "#not \n",
    "#what to think \n",
    "print(\"\\\"\\\"\")#\"\"\n",
    "print ('2*3*4*5/10=')#2*3*4*5/10=\n",
    "print(2*3*4*5/10)#12\n"
   ]
  },
  {
   "cell_type": "code",
   "execution_count": null,
   "id": "d3b11f8b",
   "metadata": {},
   "outputs": [],
   "source": []
  }
 ],
 "metadata": {
  "kernelspec": {
   "display_name": "Python 3 (ipykernel)",
   "language": "python",
   "name": "python3"
  },
  "language_info": {
   "codemirror_mode": {
    "name": "ipython",
    "version": 3
   },
   "file_extension": ".py",
   "mimetype": "text/x-python",
   "name": "python",
   "nbconvert_exporter": "python",
   "pygments_lexer": "ipython3",
   "version": "3.11.5"
  }
 },
 "nbformat": 4,
 "nbformat_minor": 5
}
