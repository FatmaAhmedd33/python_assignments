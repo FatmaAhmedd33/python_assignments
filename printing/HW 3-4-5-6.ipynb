{
 "cells": [
  {
   "cell_type": "code",
   "execution_count": 1,
   "id": "bd43f186",
   "metadata": {},
   "outputs": [
    {
     "name": "stdout",
     "output_type": "stream",
     "text": [
      "*\n",
      "**\n",
      "***\n",
      "****\n",
      "*****\n"
     ]
    }
   ],
   "source": [
    "print('*\\n**\\n***\\n****\\n*****')"
   ]
  },
  {
   "cell_type": "code",
   "execution_count": 5,
   "id": "9cc9431f",
   "metadata": {},
   "outputs": [
    {
     "name": "stdout",
     "output_type": "stream",
     "text": [
      "    *     \n",
      "   ***    \n",
      "  *****   \n",
      " *******  \n",
      "*********\n"
     ]
    }
   ],
   "source": [
    "print('    *    ','\\n   ***   ','\\n  *****  ','\\n ******* ','\\n*********')"
   ]
  },
  {
   "cell_type": "code",
   "execution_count": 7,
   "id": "52e69428",
   "metadata": {},
   "outputs": [
    {
     "name": "stdout",
     "output_type": "stream",
     "text": [
      "    *     \n",
      "   ***    \n",
      "  *****   \n",
      " *******  \n",
      "********* \n",
      "********* \n",
      " *******  \n",
      "  *****   \n",
      "   ***    \n",
      "    *    \n"
     ]
    }
   ],
   "source": [
    "print('    *    ','\\n   ***   ','\\n  *****  ','\\n ******* ','\\n*********','\\n*********','\\n ******* ','\\n  *****  ','\\n   ***   ','\\n    *    ',)"
   ]
  },
  {
   "cell_type": "code",
   "execution_count": 9,
   "id": "95da878e",
   "metadata": {},
   "outputs": [
    {
     "name": "stdout",
     "output_type": "stream",
     "text": [
      "Hi\n",
      "\n",
      "I am mostatfa\n",
      "18\n",
      "wonderful day\n",
      "wonderful day\n"
     ]
    }
   ],
   "source": [
    "#correct me hw6\n",
    "print('Hi')\n",
    "print()\n",
    "print(\"I am mostatfa\")\n",
    "print (3*6)\n",
    "print (\"wonderful day\")\n",
    "print (\"wonderful\", \"day\")\n"
   ]
  },
  {
   "cell_type": "code",
   "execution_count": null,
   "id": "0fe4f871",
   "metadata": {},
   "outputs": [],
   "source": []
  }
 ],
 "metadata": {
  "kernelspec": {
   "display_name": "Python 3 (ipykernel)",
   "language": "python",
   "name": "python3"
  },
  "language_info": {
   "codemirror_mode": {
    "name": "ipython",
    "version": 3
   },
   "file_extension": ".py",
   "mimetype": "text/x-python",
   "name": "python",
   "nbconvert_exporter": "python",
   "pygments_lexer": "ipython3",
   "version": "3.11.5"
  }
 },
 "nbformat": 4,
 "nbformat_minor": 5
}
