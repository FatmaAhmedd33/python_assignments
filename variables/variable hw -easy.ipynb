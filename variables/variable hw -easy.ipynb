{
 "cells": [
  {
   "cell_type": "code",
   "execution_count": 7,
   "id": "30e77fa5",
   "metadata": {},
   "outputs": [
    {
     "name": "stdout",
     "output_type": "stream",
     "text": [
      "Enter first number :6\n",
      "Enter second number :4\n",
      "6 + 4 = 10\n",
      "6 - 4 = 2\n",
      "6 * 4 = 24\n",
      "6 / 4 = 1.5\n"
     ]
    }
   ],
   "source": [
    "#math operations hw1\n",
    "x=int( input('Enter first number :'))\n",
    "y= int(input('Enter second number :'))\n",
    "print(x, '+', y, '=', x+y)\n",
    "print(x, '-', y, '=', x-y)\n",
    "print(x, '*', y, '=', x*y)\n",
    "print(x, '/', y, '=', x/y)"
   ]
  },
  {
   "cell_type": "code",
   "execution_count": 9,
   "id": "25edeaaa",
   "metadata": {},
   "outputs": [
    {
     "name": "stdout",
     "output_type": "stream",
     "text": [
      "Enter the first student 's name:mo\n",
      "Enter the first student 's ID:12\n",
      "Enter the first student 's grade:20\n",
      "\n",
      "\n",
      "Enter the second student 's name:to\n",
      "Enter the second student 's ID:31\n",
      "Enter the second student 's grade:31\n",
      "Informat for students and their\"math\"grades \n",
      "  \n",
      "mo ( ID 12 ) got grades : 20 \n",
      " to ( ID 31 ) got grades : 31 \n",
      "\n",
      "Average math grade is  25.5\n"
     ]
    }
   ],
   "source": [
    "#student grades hw2\n",
    "x= input(\"Enter the first student 's name:\")\n",
    "y= input(\"Enter the first student 's ID:\")\n",
    "z=  int (input(\"Enter the first student 's grade:\"))\n",
    "print('\\n')\n",
    "a= input(\"Enter the second student 's name:\")\n",
    "b= input(\"Enter the second student 's ID:\")\n",
    "c=  int(input(\"Enter the second student 's grade:\"))\n",
    "print (\"\"\"Informat for students and their\"math\"grades \\n  \"\"\")\n",
    "print (x,'( ID',y,') got grades :',z,'\\n',a,'( ID',b,') got grades :',c,'\\n')\n",
    "print(\"Average math grade is \",(z+c)/2)\n",
    "\n"
   ]
  },
  {
   "cell_type": "code",
   "execution_count": 14,
   "id": "ef119f74",
   "metadata": {},
   "outputs": [
    {
     "name": "stdout",
     "output_type": "stream",
     "text": [
      "11 2 7 9 12 -8 3 -1\n",
      "2   33\n"
     ]
    }
   ],
   "source": [
    "#hw3 even and odd sum\n",
    "o1,e1,o2,e2,o3,e3,o4,e4=map(int,input().split())\n",
    "sume=e1+e2+e3+e4\n",
    "sumo=o1+o2+o3+o4\n",
    "print(sume,' ',sumo)"
   ]
  },
  {
   "cell_type": "code",
   "execution_count": 18,
   "id": "6f3e0c61",
   "metadata": {},
   "outputs": [
    {
     "name": "stdout",
     "output_type": "stream",
     "text": [
      "A\n",
      "B\n",
      "C\n",
      "A'B\"CA'B\"CA'B\"CA'B\"CA'B\"CA'B\"CA'B\"CA'B\"CA'B\"CA'B\"C\n"
     ]
    }
   ],
   "source": [
    "#hw4 special concatenation\n",
    "a,b,c = input().split()\n",
    "strr = a + \"'\" + b + '\"' + c\n",
    "strr = strr * 10\n",
    "\n",
    "print(strr)\n"
   ]
  },
  {
   "cell_type": "code",
   "execution_count": null,
   "id": "e0393901",
   "metadata": {},
   "outputs": [],
   "source": []
  },
  {
   "cell_type": "code",
   "execution_count": null,
   "id": "fa2a6def",
   "metadata": {},
   "outputs": [],
   "source": []
  }
 ],
 "metadata": {
  "kernelspec": {
   "display_name": "Python 3 (ipykernel)",
   "language": "python",
   "name": "python3"
  },
  "language_info": {
   "codemirror_mode": {
    "name": "ipython",
    "version": 3
   },
   "file_extension": ".py",
   "mimetype": "text/x-python",
   "name": "python",
   "nbconvert_exporter": "python",
   "pygments_lexer": "ipython3",
   "version": "3.11.5"
  }
 },
 "nbformat": 4,
 "nbformat_minor": 5
}
