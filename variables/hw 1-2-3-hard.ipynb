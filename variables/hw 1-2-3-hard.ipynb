{
 "cells": [
  {
   "cell_type": "code",
   "execution_count": 7,
   "id": "592dc434",
   "metadata": {},
   "outputs": [
    {
     "name": "stdout",
     "output_type": "stream",
     "text": [
      "115 20 301\n",
      "20 301 115\n"
     ]
    }
   ],
   "source": [
    "#hw 1 sawpping 3 numbers\n",
    "num1,num2,num3=map(int, input().split())\n",
    "num4=num1\n",
    "num1=num2\n",
    "num2=num3\n",
    "num3=num4\n",
    "print(num1,num2,num3)"
   ]
  },
  {
   "cell_type": "code",
   "execution_count": 11,
   "id": "aa761515",
   "metadata": {},
   "outputs": [
    {
     "name": "stdout",
     "output_type": "stream",
     "text": [
      "2 1\n",
      "4\n"
     ]
    }
   ],
   "source": [
    "#hw2 print me\n",
    "a,b=map(int,input().split())\n",
    "if b==1:\n",
    "     print(a*a)\n",
    "else:\n",
    "    print((2*a)+1)"
   ]
  },
  {
   "cell_type": "code",
   "execution_count": 15,
   "id": "c9da931a",
   "metadata": {},
   "outputs": [
    {
     "name": "stdout",
     "output_type": "stream",
     "text": [
      "5\n",
      "15.0\n"
     ]
    }
   ],
   "source": [
    "#hw 3 sum from 1 to n\n",
    "a=int(input())\n",
    "c=(a*(a+1)/2)\n",
    "print (c)"
   ]
  },
  {
   "cell_type": "code",
   "execution_count": null,
   "id": "5dda49fc",
   "metadata": {},
   "outputs": [],
   "source": []
  },
  {
   "cell_type": "code",
   "execution_count": null,
   "id": "8a3c6b06",
   "metadata": {},
   "outputs": [],
   "source": []
  }
 ],
 "metadata": {
  "kernelspec": {
   "display_name": "Python 3 (ipykernel)",
   "language": "python",
   "name": "python3"
  },
  "language_info": {
   "codemirror_mode": {
    "name": "ipython",
    "version": 3
   },
   "file_extension": ".py",
   "mimetype": "text/x-python",
   "name": "python",
   "nbconvert_exporter": "python",
   "pygments_lexer": "ipython3",
   "version": "3.11.5"
  }
 },
 "nbformat": 4,
 "nbformat_minor": 5
}
